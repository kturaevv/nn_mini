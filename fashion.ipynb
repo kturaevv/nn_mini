{
 "cells": [
  {
   "cell_type": "markdown",
   "id": "b97bed35-e985-4d82-a015-48c5c1d29202",
   "metadata": {
    "tags": []
   },
   "source": [
    "# Data preparation"
   ]
  },
  {
   "cell_type": "code",
   "execution_count": 1,
   "id": "7704c797-b6bb-4a72-b2af-0b99b5f1ac81",
   "metadata": {},
   "outputs": [],
   "source": [
    "URL = 'https://nnfs.io/datasets/fashion_mnist_images.zip'\n",
    "FILE = 'fashion_mnist_images.zip'\n",
    "FOLDER = 'examples/fashion_mnist/data/'"
   ]
  },
  {
   "cell_type": "code",
   "execution_count": 2,
   "id": "fa692d57-6c65-449b-a879-dd6f0cd72593",
   "metadata": {
    "tags": []
   },
   "outputs": [],
   "source": [
    "import os\n",
    "import urllib\n",
    "import urllib.request"
   ]
  },
  {
   "cell_type": "code",
   "execution_count": 3,
   "id": "f72a2e87-31de-414f-9c43-00919c696e2c",
   "metadata": {},
   "outputs": [],
   "source": [
    "if not os.path.isfile(FILE):\n",
    "    print(f\"Downloading {URL} and saving as {FILE}...\")\n",
    "    urllib.request.urlretrieve(URL,FILE)\n",
    "\n",
    "    from zipfile import ZipFile\n",
    "    print(\"Unzipping images...\")\n",
    "    with ZipFile(FILE) as zip_images:\n",
    "        zip_images.extractall(FOLDER)"
   ]
  },
  {
   "cell_type": "markdown",
   "id": "84a15b88-a9a6-40a3-bb9e-753700e8084c",
   "metadata": {},
   "source": [
    "# Data loading"
   ]
  },
  {
   "cell_type": "code",
   "execution_count": 4,
   "id": "eb71f0e6-ad90-437b-8521-903212e5f857",
   "metadata": {},
   "outputs": [],
   "source": [
    "import os\n",
    "\n",
    "DIR = 'examples/fashion_mnist'\n",
    "DATA_DIR = 'examples/fashion_mnist/data'\n",
    "TRAIN_DIR = 'examples/fashion_mnist/data/train'\n",
    "TEST_DIR = 'examples/fashion_mnist/data/test'\n",
    "\n",
    "labels = os.listdir(TRAIN_DIR)\n",
    "\n",
    "files = os.listdir(TRAIN_DIR + '/0')"
   ]
  },
  {
   "cell_type": "code",
   "execution_count": 5,
   "id": "88d226c5-a740-446b-ab06-7bc54197a30a",
   "metadata": {},
   "outputs": [],
   "source": [
    "import cv2\n",
    "import numpy as np\n",
    "image_data = cv2.imread(TRAIN_DIR + '/7/0002.png', cv2.IMREAD_UNCHANGED)\n",
    "\n",
    "np.set_printoptions(linewidth=200)"
   ]
  },
  {
   "cell_type": "code",
   "execution_count": 6,
   "id": "011e32a3-476e-4a72-ac21-b8f6694a2a14",
   "metadata": {},
   "outputs": [],
   "source": [
    "def load_mnist_dataset(dataset,path):\n",
    "    \n",
    "    # Scan ll the directories and create a list of labels\n",
    "    labels = os.listdir(os.path.join(path, dataset))\n",
    "    \n",
    "    X, y = [], []\n",
    "    \n",
    "    for label in labels:\n",
    "        for file in os.listdir(os.path.join(path, dataset, label)):\n",
    "            image = cv2.imread(os.path.join(path, dataset, label, file), cv2.IMREAD_UNCHANGED)\n",
    "        \n",
    "            X.append(image)\n",
    "            y.append(label)\n",
    "            \n",
    "    # Convert the data to proper numpy arrays and return\n",
    "    return np.array(X), np.array(y).astype('uint8')\n",
    "\n",
    "def create_data_mnist(path):\n",
    "    # Load both sets separately\n",
    "    X, y = load_mnist_dataset('train', path)\n",
    "    X_test, y_test = load_mnist_dataset('test', path)\n",
    "    # And return all the data\n",
    "    return X, y, X_test, y_test"
   ]
  },
  {
   "cell_type": "markdown",
   "id": "602c0124-e39e-4a8f-9b6a-fff074fdf911",
   "metadata": {},
   "source": [
    "# Training"
   ]
  },
  {
   "cell_type": "code",
   "execution_count": 7,
   "id": "75e336e3-af3e-46c0-ac5e-95c50211eae2",
   "metadata": {},
   "outputs": [],
   "source": [
    "X,y,X_test,y_test = create_data_mnist(DATA_DIR)"
   ]
  },
  {
   "cell_type": "code",
   "execution_count": 8,
   "id": "330b31de-ea2a-4039-b509-69345c13fe4a",
   "metadata": {},
   "outputs": [],
   "source": [
    "# shuffle\n",
    "keys = np.array(range(X.shape[0]))\n",
    "np.random.shuffle(keys)\n",
    "X = X[keys]\n",
    "y = y[keys]"
   ]
  },
  {
   "cell_type": "code",
   "execution_count": 9,
   "id": "bda6e6e2-a8e4-44f3-bdc0-a7020133648d",
   "metadata": {},
   "outputs": [],
   "source": [
    "# flatten for dense NN, from -1 to 1\n",
    "X = (X.reshape(X.shape[ 0 ], - 1 ).astype(np.float32) - 127.5 ) / 127.5\n",
    "X_test = (X_test.reshape(X_test.shape[ 0 ], - 1 ).astype(np.float32) -\n",
    "127.5 ) / 127.5\n",
    "\n",
    "assert -1 <= X.min(), X.max() <= 1 # Ensuring that scaling is correct\n",
    "assert -1 <= X_test.min(), X_test.max() <= 1 "
   ]
  },
  {
   "cell_type": "code",
   "execution_count": 10,
   "id": "69b8f166-1ac7-4c40-86d1-555340cc99af",
   "metadata": {},
   "outputs": [],
   "source": [
    "from nn.model import *\n",
    "\n",
    "from nn.layer import *\n",
    "from nn.activation import *\n",
    "\n",
    "from nn.optimizer import *\n",
    "from nn.loss import *\n",
    "from nn.accuracy import *\n"
   ]
  },
  {
   "cell_type": "code",
   "execution_count": 13,
   "id": "680ba54d-ba77-4e13-a8b6-7aed695b89fe",
   "metadata": {},
   "outputs": [
    {
     "name": "stdout",
     "output_type": "stream",
     "text": [
      "epoch: 1\n",
      "step: 0, acc: 0.102, loss: 11.562 (data_loss: 11.562, reg_loss: 0.000), lr: 0.001\n",
      "step: 100, acc: 0.766, loss: 1.361 (data_loss: 1.361, reg_loss: 0.000), lr: 0.0009950248756218907\n",
      "step: 200, acc: 0.828, loss: 1.328 (data_loss: 1.328, reg_loss: 0.000), lr: 0.0009900990099009901\n",
      "step: 300, acc: 0.844, loss: 1.514 (data_loss: 1.514, reg_loss: 0.000), lr: 0.0009852216748768474\n",
      "step: 400, acc: 0.844, loss: 1.273 (data_loss: 1.273, reg_loss: 0.000), lr: 0.000980392156862745\n",
      "step: 468, acc: 0.865, loss: 1.479 (data_loss: 1.479, reg_loss: 0.000), lr: 0.0009771350400625367\n",
      "training, acc: 0.820, loss: 1.486 (data_loss: 1.486, reg_loss: 0.000), lr: 0.0009771350400625367\n",
      "epoch: 2\n",
      "step: 0, acc: 0.844, loss: 1.423 (data_loss: 1.423, reg_loss: 0.000), lr: 0.0009770873027505008\n",
      "step: 100, acc: 0.805, loss: 1.366 (data_loss: 1.366, reg_loss: 0.000), lr: 0.000972337012008362\n",
      "step: 200, acc: 0.828, loss: 1.363 (data_loss: 1.363, reg_loss: 0.000), lr: 0.0009676326866321544\n",
      "step: 300, acc: 0.859, loss: 1.284 (data_loss: 1.284, reg_loss: 0.000), lr: 0.0009629736626703259\n",
      "step: 400, acc: 0.844, loss: 1.202 (data_loss: 1.202, reg_loss: 0.000), lr: 0.0009583592888974076\n",
      "step: 468, acc: 0.906, loss: 1.223 (data_loss: 1.223, reg_loss: 0.000), lr: 0.0009552466924583273\n",
      "training, acc: 0.864, loss: 1.182 (data_loss: 1.182, reg_loss: 0.000), lr: 0.0009552466924583273\n",
      "epoch: 3\n",
      "step: 0, acc: 0.852, loss: 1.344 (data_loss: 1.344, reg_loss: 0.000), lr: 0.0009552010698251983\n",
      "step: 100, acc: 0.812, loss: 1.074 (data_loss: 1.074, reg_loss: 0.000), lr: 0.0009506607091928891\n",
      "step: 200, acc: 0.852, loss: 1.125 (data_loss: 1.125, reg_loss: 0.000), lr: 0.0009461633077869241\n",
      "step: 300, acc: 0.906, loss: 1.060 (data_loss: 1.060, reg_loss: 0.000), lr: 0.0009417082587814295\n",
      "step: 400, acc: 0.852, loss: 1.041 (data_loss: 1.041, reg_loss: 0.000), lr: 0.0009372949667260287\n",
      "step: 468, acc: 0.917, loss: 1.092 (data_loss: 1.092, reg_loss: 0.000), lr: 0.000934317481080071\n",
      "training, acc: 0.876, loss: 1.106 (data_loss: 1.106, reg_loss: 0.000), lr: 0.000934317481080071\n",
      "epoch: 4\n",
      "step: 0, acc: 0.859, loss: 1.419 (data_loss: 1.419, reg_loss: 0.000), lr: 0.0009342738356612324\n",
      "step: 100, acc: 0.828, loss: 1.064 (data_loss: 1.064, reg_loss: 0.000), lr: 0.0009299297903008323\n",
      "step: 200, acc: 0.859, loss: 1.091 (data_loss: 1.091, reg_loss: 0.000), lr: 0.0009256259545517657\n",
      "step: 300, acc: 0.914, loss: 0.852 (data_loss: 0.852, reg_loss: 0.000), lr: 0.0009213617727000506\n",
      "step: 400, acc: 0.859, loss: 0.933 (data_loss: 0.933, reg_loss: 0.000), lr: 0.0009171366992250195\n",
      "step: 468, acc: 0.917, loss: 1.147 (data_loss: 1.147, reg_loss: 0.000), lr: 0.0009142857142857143\n",
      "training, acc: 0.883, loss: 1.060 (data_loss: 1.060, reg_loss: 0.000), lr: 0.0009142857142857143\n",
      "epoch: 5\n",
      "step: 0, acc: 0.867, loss: 1.392 (data_loss: 1.392, reg_loss: 0.000), lr: 0.0009142439202779302\n",
      "step: 100, acc: 0.836, loss: 0.951 (data_loss: 0.951, reg_loss: 0.000), lr: 0.0009100837277029487\n",
      "step: 200, acc: 0.875, loss: 1.064 (data_loss: 1.064, reg_loss: 0.000), lr: 0.0009059612248595759\n",
      "step: 300, acc: 0.914, loss: 0.908 (data_loss: 0.908, reg_loss: 0.000), lr: 0.0009018759018759019\n",
      "step: 400, acc: 0.859, loss: 0.921 (data_loss: 0.921, reg_loss: 0.000), lr: 0.0008978272580355541\n",
      "step: 468, acc: 0.917, loss: 1.140 (data_loss: 1.140, reg_loss: 0.000), lr: 0.0008950948800572861\n",
      "training, acc: 0.888, loss: 1.030 (data_loss: 1.030, reg_loss: 0.000), lr: 0.0008950948800572861\n",
      "validation, acc: 0.868, loss: 1.262\n"
     ]
    }
   ],
   "source": [
    "model_manual = Model()\n",
    "\n",
    "# model_manual.add(Layer_Input(X.shape[1]))\n",
    "\n",
    "model_manual.add(Layer_Dense(X.shape[1], 128, activation=Activation_ReLU()))\n",
    "model_manual.add(Layer_Dense(128, 10, activation=Activation_Softmax()))\n",
    "\n",
    "model_manual.set(\n",
    "    loss = Loss_CategoricalCrossentropy(),\n",
    "    accuracy = Accuracy_Categorical(),\n",
    "    optimizer = Optimizer_Adam(decay=5e-5)\n",
    ")\n",
    "\n",
    "model_manual.train(X, y, validation_data = (X_test, y_test), epochs = 5 , batch_size = 128 , print_every = 100)\n",
    "\n",
    "parameters = model_manual.get_parameters()"
   ]
  },
  {
   "cell_type": "code",
   "execution_count": 12,
   "id": "3244a845-5278-4b30-ac1e-7705c80fd395",
   "metadata": {},
   "outputs": [
    {
     "name": "stdout",
     "output_type": "stream",
     "text": [
      "epoch: 1\n",
      "step: 0, acc: 0.109, loss: 10.810 (data_loss: 10.810, reg_loss: 0.000), lr: 0.001\n",
      "step: 100, acc: 0.750, loss: 1.579 (data_loss: 1.579, reg_loss: 0.000), lr: 0.0009950248756218907\n",
      "step: 200, acc: 0.805, loss: 1.327 (data_loss: 1.327, reg_loss: 0.000), lr: 0.0009900990099009901\n",
      "step: 300, acc: 0.859, loss: 1.139 (data_loss: 1.139, reg_loss: 0.000), lr: 0.0009852216748768474\n",
      "step: 400, acc: 0.844, loss: 1.094 (data_loss: 1.094, reg_loss: 0.000), lr: 0.000980392156862745\n",
      "step: 468, acc: 0.875, loss: 1.137 (data_loss: 1.137, reg_loss: 0.000), lr: 0.0009771350400625367\n",
      "training, acc: 0.819, loss: 1.358 (data_loss: 1.358, reg_loss: 0.000), lr: 0.0009771350400625367\n",
      "epoch: 2\n",
      "step: 0, acc: 0.844, loss: 1.557 (data_loss: 1.557, reg_loss: 0.000), lr: 0.0009770873027505008\n",
      "step: 100, acc: 0.789, loss: 1.173 (data_loss: 1.173, reg_loss: 0.000), lr: 0.000972337012008362\n",
      "step: 200, acc: 0.836, loss: 1.223 (data_loss: 1.223, reg_loss: 0.000), lr: 0.0009676326866321544\n",
      "step: 300, acc: 0.883, loss: 0.925 (data_loss: 0.925, reg_loss: 0.000), lr: 0.0009629736626703259\n",
      "step: 400, acc: 0.852, loss: 1.013 (data_loss: 1.013, reg_loss: 0.000), lr: 0.0009583592888974076\n",
      "step: 468, acc: 0.896, loss: 1.019 (data_loss: 1.019, reg_loss: 0.000), lr: 0.0009552466924583273\n",
      "training, acc: 0.864, loss: 1.060 (data_loss: 1.060, reg_loss: 0.000), lr: 0.0009552466924583273\n",
      "epoch: 3\n",
      "step: 0, acc: 0.844, loss: 1.397 (data_loss: 1.397, reg_loss: 0.000), lr: 0.0009552010698251983\n",
      "step: 100, acc: 0.805, loss: 1.067 (data_loss: 1.067, reg_loss: 0.000), lr: 0.0009506607091928891\n",
      "step: 200, acc: 0.852, loss: 1.014 (data_loss: 1.014, reg_loss: 0.000), lr: 0.0009461633077869241\n",
      "step: 300, acc: 0.914, loss: 0.998 (data_loss: 0.998, reg_loss: 0.000), lr: 0.0009417082587814295\n",
      "step: 400, acc: 0.852, loss: 0.978 (data_loss: 0.978, reg_loss: 0.000), lr: 0.0009372949667260287\n",
      "step: 468, acc: 0.896, loss: 0.997 (data_loss: 0.997, reg_loss: 0.000), lr: 0.000934317481080071\n",
      "training, acc: 0.876, loss: 0.989 (data_loss: 0.989, reg_loss: 0.000), lr: 0.000934317481080071\n",
      "epoch: 4\n",
      "step: 0, acc: 0.852, loss: 1.262 (data_loss: 1.262, reg_loss: 0.000), lr: 0.0009342738356612324\n",
      "step: 100, acc: 0.820, loss: 1.011 (data_loss: 1.011, reg_loss: 0.000), lr: 0.0009299297903008323\n",
      "step: 200, acc: 0.875, loss: 0.944 (data_loss: 0.944, reg_loss: 0.000), lr: 0.0009256259545517657\n",
      "step: 300, acc: 0.914, loss: 0.873 (data_loss: 0.873, reg_loss: 0.000), lr: 0.0009213617727000506\n",
      "step: 400, acc: 0.852, loss: 0.844 (data_loss: 0.844, reg_loss: 0.000), lr: 0.0009171366992250195\n",
      "step: 468, acc: 0.906, loss: 1.118 (data_loss: 1.118, reg_loss: 0.000), lr: 0.0009142857142857143\n",
      "training, acc: 0.883, loss: 0.949 (data_loss: 0.949, reg_loss: 0.000), lr: 0.0009142857142857143\n",
      "epoch: 5\n",
      "step: 0, acc: 0.852, loss: 1.239 (data_loss: 1.239, reg_loss: 0.000), lr: 0.0009142439202779302\n",
      "step: 100, acc: 0.836, loss: 0.977 (data_loss: 0.977, reg_loss: 0.000), lr: 0.0009100837277029487\n",
      "step: 200, acc: 0.898, loss: 1.034 (data_loss: 1.034, reg_loss: 0.000), lr: 0.0009059612248595759\n",
      "step: 300, acc: 0.914, loss: 0.752 (data_loss: 0.752, reg_loss: 0.000), lr: 0.0009018759018759019\n",
      "step: 400, acc: 0.875, loss: 0.827 (data_loss: 0.827, reg_loss: 0.000), lr: 0.0008978272580355541\n",
      "step: 468, acc: 0.896, loss: 1.111 (data_loss: 1.111, reg_loss: 0.000), lr: 0.0008950948800572861\n",
      "training, acc: 0.889, loss: 0.919 (data_loss: 0.919, reg_loss: 0.000), lr: 0.0008950948800572861\n",
      "validation, acc: 0.870, loss: 1.110\n"
     ]
    }
   ],
   "source": [
    "model = Model('basic', [X.shape[1], 128, 10])\n",
    "model.train(X, y, validation_data = (X_test, y_test), epochs = 5 , batch_size = 128 , print_every = 100)\n",
    "parameters = model.get_parameters()"
   ]
  },
  {
   "cell_type": "code",
   "execution_count": null,
   "id": "8ab8b59c-6c2f-4953-a86a-4a88dba08e2a",
   "metadata": {},
   "outputs": [],
   "source": [
    "if not os.path.isfile(DIR + '/params'):\n",
    "    model.save_parameters(DIR + '/params')"
   ]
  },
  {
   "cell_type": "code",
   "execution_count": null,
   "id": "f6d83046-a3b9-46f4-933a-31aa1626e0d2",
   "metadata": {},
   "outputs": [],
   "source": []
  }
 ],
 "metadata": {
  "kernelspec": {
   "display_name": "Python 3 (ipykernel)",
   "language": "python",
   "name": "python3"
  },
  "language_info": {
   "codemirror_mode": {
    "name": "ipython",
    "version": 3
   },
   "file_extension": ".py",
   "mimetype": "text/x-python",
   "name": "python",
   "nbconvert_exporter": "python",
   "pygments_lexer": "ipython3",
   "version": "3.10.2"
  },
  "vscode": {
   "interpreter": {
    "hash": "b9be71ce5a52a3208977f2e7fdd9a07588940f06dcea6fd3e3d7564008a8353e"
   }
  }
 },
 "nbformat": 4,
 "nbformat_minor": 5
}
