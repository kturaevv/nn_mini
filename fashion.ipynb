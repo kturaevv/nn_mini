{
 "cells": [
  {
   "cell_type": "markdown",
   "id": "b97bed35-e985-4d82-a015-48c5c1d29202",
   "metadata": {
    "tags": []
   },
   "source": [
    "# Data preparation"
   ]
  },
  {
   "cell_type": "code",
   "execution_count": 1,
   "id": "7704c797-b6bb-4a72-b2af-0b99b5f1ac81",
   "metadata": {},
   "outputs": [],
   "source": [
    "URL = 'https://nnfs.io/datasets/fashion_mnist_images.zip'\n",
    "FILE = 'fashion_mnist_images.zip'\n",
    "FOLDER = 'examples/fashion_mnist/data/'"
   ]
  },
  {
   "cell_type": "code",
   "execution_count": 2,
   "id": "fa692d57-6c65-449b-a879-dd6f0cd72593",
   "metadata": {},
   "outputs": [],
   "source": [
    "import os\n",
    "import urllib\n",
    "import urllib.request"
   ]
  },
  {
   "cell_type": "code",
   "execution_count": 3,
   "id": "f72a2e87-31de-414f-9c43-00919c696e2c",
   "metadata": {},
   "outputs": [],
   "source": [
    "if not os.path.isfile(FILE):\n",
    "    print(f\"Downloading {URL} and saving as {FILE}...\")\n",
    "    urllib.request.urlretrieve(URL,FILE)"
   ]
  },
  {
   "cell_type": "code",
   "execution_count": 4,
   "id": "b7416292-5f62-4816-8c22-c0c5a12a48a3",
   "metadata": {},
   "outputs": [
    {
     "name": "stdout",
     "output_type": "stream",
     "text": [
      "Unzipping images...\n"
     ]
    }
   ],
   "source": [
    "from zipfile import ZipFile\n",
    "\n",
    "print(\"Unzipping images...\")\n",
    "with ZipFile(FILE) as zip_images:\n",
    "    zip_images.extractall(FOLDER)"
   ]
  },
  {
   "cell_type": "markdown",
   "id": "84a15b88-a9a6-40a3-bb9e-753700e8084c",
   "metadata": {},
   "source": [
    "# Data loading"
   ]
  },
  {
   "cell_type": "code",
   "execution_count": 10,
   "id": "eb71f0e6-ad90-437b-8521-903212e5f857",
   "metadata": {},
   "outputs": [],
   "source": [
    "import os\n",
    "\n",
    "DATA_DIR = 'examples/fashion_mnist/data'\n",
    "TRAIN_DIR = 'examples/fashion_mnist/data/train'\n",
    "TEST_DIR = 'examples/fashion_mnist/data/test'\n",
    "\n",
    "labels = os.listdir(TRAIN_DIR)\n",
    "\n",
    "files = os.listdir(TRAIN_DIR + '/0')"
   ]
  },
  {
   "cell_type": "code",
   "execution_count": 11,
   "id": "88d226c5-a740-446b-ab06-7bc54197a30a",
   "metadata": {},
   "outputs": [],
   "source": [
    "import cv2\n",
    "import numpy as np\n",
    "image_data = cv2.imread(TRAIN_DIR + '/7/0002.png', cv2.IMREAD_UNCHANGED)\n",
    "\n",
    "np.set_printoptions(linewidth=200)"
   ]
  },
  {
   "cell_type": "code",
   "execution_count": 13,
   "id": "011e32a3-476e-4a72-ac21-b8f6694a2a14",
   "metadata": {},
   "outputs": [],
   "source": [
    "def load_mnist_dataset(dataset,path):\n",
    "    \n",
    "    # Scan ll the directories and create a list of labels\n",
    "    labels = os.listdir(os.path.join(path, dataset))\n",
    "    \n",
    "    X, y = [], []\n",
    "    \n",
    "    for label in labels:\n",
    "        for file in os.listdir(os.path.join(path, dataset, label)):\n",
    "            image = cv2.imread(os.path.join(path, dataset, label, file), cv2.IMREAD_UNCHANGED)\n",
    "        \n",
    "            X.append(image)\n",
    "            y.append(label)\n",
    "            \n",
    "    # Convert the data to proper numpy arrays and return\n",
    "    return np.array(X), np.array(y).astype('uint8')\n",
    "\n",
    "def create_data_mnist(path):\n",
    "    # Load both sets separately\n",
    "    X, y = load_mnist_dataset('train', path)\n",
    "    X_test, y_test = load_mnist_dataset('test', path)\n",
    "    # And return all the data\n",
    "    return X, y, X_test, y_test\n",
    "\n",
    "X, y, X_test, y_test = create_data_mnist(DATA_DIR)"
   ]
  },
  {
   "cell_type": "markdown",
   "id": "d97f9a72-d8d7-4918-929e-6560d43109d4",
   "metadata": {},
   "source": [
    "# Data preprocessing"
   ]
  },
  {
   "cell_type": "code",
   "execution_count": 14,
   "id": "97a79acd-75b4-482f-a890-fce84c3781e8",
   "metadata": {},
   "outputs": [],
   "source": [
    "# Scale features between -1 and 1\n",
    "X = (X.astype(np.float32) - 127.5) / 127.5\n",
    "X_test = (X_test.astype(np.float32) - 127.5) / 127.5\n",
    "assert -1 <= X.min(), X.max() <= 1 # Ensuring that scaling is correct"
   ]
  },
  {
   "cell_type": "code",
   "execution_count": 15,
   "id": "0510305b-25ac-4c92-b908-4bf9069ac73d",
   "metadata": {},
   "outputs": [
    {
     "data": {
      "text/plain": [
       "(60000, 28, 28)"
      ]
     },
     "execution_count": 15,
     "metadata": {},
     "output_type": "execute_result"
    }
   ],
   "source": [
    "X.shape"
   ]
  },
  {
   "cell_type": "code",
   "execution_count": 16,
   "id": "a23de9c8-4bff-4662-884f-de865fd92684",
   "metadata": {},
   "outputs": [],
   "source": [
    "X = X.reshape(60000, -1)\n",
    "X_test = X_test.reshape(X_test.shape[0], -1)"
   ]
  },
  {
   "cell_type": "markdown",
   "id": "587ee046-9e57-4ce1-9a2e-e930984fe219",
   "metadata": {},
   "source": [
    "# Data shuffling"
   ]
  },
  {
   "cell_type": "code",
   "execution_count": 22,
   "id": "b1d02f44-6be2-4969-8c47-2d0dfb4a2119",
   "metadata": {},
   "outputs": [],
   "source": [
    "keys = np.array( range (X.shape[ 0 ]))\n",
    "import nnfs\n",
    "nnfs.init()\n",
    "np.random.shuffle(keys)"
   ]
  },
  {
   "cell_type": "markdown",
   "id": "602c0124-e39e-4a8f-9b6a-fff074fdf911",
   "metadata": {},
   "source": [
    "# Training"
   ]
  },
  {
   "cell_type": "code",
   "execution_count": 24,
   "id": "75e336e3-af3e-46c0-ac5e-95c50211eae2",
   "metadata": {},
   "outputs": [],
   "source": [
    "X,y,X_test,y_test = create_data_mnist(DATA_DIR)"
   ]
  },
  {
   "cell_type": "code",
   "execution_count": 25,
   "id": "330b31de-ea2a-4039-b509-69345c13fe4a",
   "metadata": {},
   "outputs": [],
   "source": [
    "# shuffle\n",
    "keys = np.array(range(X.shape[0]))\n",
    "np.random.shuffle(keys)\n",
    "X = X[keys]\n",
    "y = y[keys]"
   ]
  },
  {
   "cell_type": "code",
   "execution_count": 26,
   "id": "bda6e6e2-a8e4-44f3-bdc0-a7020133648d",
   "metadata": {},
   "outputs": [],
   "source": [
    "# flatten for dense NN, from -1 to 1\n",
    "X = (X.reshape(X.shape[ 0 ], - 1 ).astype(np.float32) - 127.5 ) / 127.5\n",
    "X_test = (X_test.reshape(X_test.shape[ 0 ], - 1 ).astype(np.float32) -\n",
    "127.5 ) / 127.5"
   ]
  },
  {
   "cell_type": "code",
   "execution_count": 32,
   "id": "69b8f166-1ac7-4c40-86d1-555340cc99af",
   "metadata": {},
   "outputs": [
    {
     "name": "stdout",
     "output_type": "stream",
     "text": [
      "epoch: 1\n",
      "step: 0, acc: 0.227, loss: 2.302 (data_loss: 2.302, reg_loss: 0.000), lr: 0.001\n",
      "step: 100, acc: 0.602, loss: 0.943 (data_loss: 0.943, reg_loss: 0.000), lr: 0.0009950248756218907\n",
      "step: 200, acc: 0.703, loss: 0.754 (data_loss: 0.754, reg_loss: 0.000), lr: 0.0009900990099009901\n",
      "step: 300, acc: 0.805, loss: 0.550 (data_loss: 0.550, reg_loss: 0.000), lr: 0.0009852216748768474\n",
      "step: 400, acc: 0.766, loss: 0.568 (data_loss: 0.568, reg_loss: 0.000), lr: 0.000980392156862745\n",
      "step: 468, acc: 0.854, loss: 0.488 (data_loss: 0.488, reg_loss: 0.000), lr: 0.0009771350400625367\n",
      "training, acc: 0.722, loss: 0.742 (data_loss: 0.742, reg_loss: 0.000), lr: 0.0009771350400625367\n",
      "validation, acc: 0.806, loss: 0.533\n",
      "epoch: 2\n",
      "step: 0, acc: 0.789, loss: 0.590 (data_loss: 0.590, reg_loss: 0.000), lr: 0.0009770873027505008\n",
      "step: 100, acc: 0.812, loss: 0.580 (data_loss: 0.580, reg_loss: 0.000), lr: 0.000972337012008362\n",
      "step: 200, acc: 0.773, loss: 0.542 (data_loss: 0.542, reg_loss: 0.000), lr: 0.0009676326866321544\n",
      "step: 300, acc: 0.875, loss: 0.401 (data_loss: 0.401, reg_loss: 0.000), lr: 0.0009629736626703259\n",
      "step: 400, acc: 0.820, loss: 0.500 (data_loss: 0.500, reg_loss: 0.000), lr: 0.0009583592888974076\n",
      "step: 468, acc: 0.833, loss: 0.419 (data_loss: 0.419, reg_loss: 0.000), lr: 0.0009552466924583273\n",
      "training, acc: 0.835, loss: 0.457 (data_loss: 0.457, reg_loss: 0.000), lr: 0.0009552466924583273\n",
      "validation, acc: 0.832, loss: 0.469\n",
      "epoch: 3\n",
      "step: 0, acc: 0.789, loss: 0.554 (data_loss: 0.554, reg_loss: 0.000), lr: 0.0009552010698251983\n",
      "step: 100, acc: 0.852, loss: 0.481 (data_loss: 0.481, reg_loss: 0.000), lr: 0.0009506607091928891\n",
      "step: 200, acc: 0.797, loss: 0.490 (data_loss: 0.490, reg_loss: 0.000), lr: 0.0009461633077869241\n",
      "step: 300, acc: 0.859, loss: 0.379 (data_loss: 0.379, reg_loss: 0.000), lr: 0.0009417082587814295\n",
      "step: 400, acc: 0.828, loss: 0.480 (data_loss: 0.480, reg_loss: 0.000), lr: 0.0009372949667260287\n",
      "step: 468, acc: 0.833, loss: 0.399 (data_loss: 0.399, reg_loss: 0.000), lr: 0.000934317481080071\n",
      "training, acc: 0.853, loss: 0.407 (data_loss: 0.407, reg_loss: 0.000), lr: 0.000934317481080071\n",
      "validation, acc: 0.842, loss: 0.442\n",
      "epoch: 4\n",
      "step: 0, acc: 0.805, loss: 0.529 (data_loss: 0.529, reg_loss: 0.000), lr: 0.0009342738356612324\n",
      "step: 100, acc: 0.852, loss: 0.423 (data_loss: 0.423, reg_loss: 0.000), lr: 0.0009299297903008323\n",
      "step: 200, acc: 0.812, loss: 0.440 (data_loss: 0.440, reg_loss: 0.000), lr: 0.0009256259545517657\n",
      "step: 300, acc: 0.859, loss: 0.361 (data_loss: 0.361, reg_loss: 0.000), lr: 0.0009213617727000506\n",
      "step: 400, acc: 0.828, loss: 0.457 (data_loss: 0.457, reg_loss: 0.000), lr: 0.0009171366992250195\n",
      "step: 468, acc: 0.833, loss: 0.395 (data_loss: 0.395, reg_loss: 0.000), lr: 0.0009142857142857143\n",
      "training, acc: 0.862, loss: 0.379 (data_loss: 0.379, reg_loss: 0.000), lr: 0.0009142857142857143\n",
      "validation, acc: 0.845, loss: 0.423\n",
      "epoch: 5\n",
      "step: 0, acc: 0.820, loss: 0.498 (data_loss: 0.498, reg_loss: 0.000), lr: 0.0009142439202779302\n",
      "step: 100, acc: 0.875, loss: 0.378 (data_loss: 0.378, reg_loss: 0.000), lr: 0.0009100837277029487\n",
      "step: 200, acc: 0.812, loss: 0.403 (data_loss: 0.403, reg_loss: 0.000), lr: 0.0009059612248595759\n",
      "step: 300, acc: 0.859, loss: 0.346 (data_loss: 0.346, reg_loss: 0.000), lr: 0.0009018759018759019\n",
      "step: 400, acc: 0.852, loss: 0.434 (data_loss: 0.434, reg_loss: 0.000), lr: 0.0008978272580355541\n",
      "step: 468, acc: 0.833, loss: 0.386 (data_loss: 0.386, reg_loss: 0.000), lr: 0.0008950948800572861\n",
      "training, acc: 0.870, loss: 0.358 (data_loss: 0.358, reg_loss: 0.000), lr: 0.0008950948800572861\n",
      "validation, acc: 0.850, loss: 0.407\n"
     ]
    }
   ],
   "source": [
    "from nn.model import *\n",
    "\n",
    "from nn.layer import *\n",
    "from nn.activation import *\n",
    "\n",
    "from nn.optimizer import *\n",
    "from nn.loss import *\n",
    "from nn.accuracy import *\n",
    "\n",
    "# Instantiate the model\n",
    "model = Model()\n",
    "# Add layers\n",
    "model.add(Layer_Dense(X.shape[ 1 ], 64 ))\n",
    "model.add(Activation_ReLU())\n",
    "model.add(Layer_Dense( 64 , 64 ))\n",
    "model.add(Activation_ReLU())\n",
    "model.add(Layer_Dense( 64 , 10 ))\n",
    "model.add(Activation_Softmax())\n",
    "\n",
    "# Set loss, optimizer and accuracy objects\n",
    "model.set(\n",
    "    loss = Loss_CategoricalCrossentropy(),\n",
    "    optimizer = Optimizer_Adam( decay = 5e-5 ),\n",
    "    accuracy = Accuracy_Categorical()\n",
    ")\n",
    "\n",
    "# Finalize the model\n",
    "model.finalize()\n",
    "# Train the model\n",
    "model.train(X, y, validation_data = (X_test, y_test), \n",
    "            epochs = 5 , batch_size = 128 , print_every = 100)"
   ]
  },
  {
   "cell_type": "code",
   "execution_count": null,
   "id": "fa85b369-99cf-4598-850a-1e6b9f76c89c",
   "metadata": {},
   "outputs": [],
   "source": []
  }
 ],
 "metadata": {
  "kernelspec": {
   "display_name": "Python 3 (ipykernel)",
   "language": "python",
   "name": "python3"
  },
  "language_info": {
   "codemirror_mode": {
    "name": "ipython",
    "version": 3
   },
   "file_extension": ".py",
   "mimetype": "text/x-python",
   "name": "python",
   "nbconvert_exporter": "python",
   "pygments_lexer": "ipython3",
   "version": "3.10.2"
  }
 },
 "nbformat": 4,
 "nbformat_minor": 5
}
