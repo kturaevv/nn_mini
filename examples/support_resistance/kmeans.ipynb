{
 "cells": [
  {
   "cell_type": "code",
   "execution_count": 1,
   "id": "20d5f35e-c86f-4e80-9306-b0c1121dbb79",
   "metadata": {
    "jupyter": {
     "source_hidden": true
    },
    "tags": []
   },
   "outputs": [],
   "source": [
    "import pandas as pd\n",
    "import numpy as np\n",
    "import matplotlib.pyplot as plt\n",
    "import yfinance\n",
    "import mplfinance as mplf\n",
    "\n",
    "from sklearn.cluster import KMeans"
   ]
  },
  {
   "cell_type": "code",
   "execution_count": 2,
   "id": "8f8084c9-aab1-46a6-99fa-763b2c58db3c",
   "metadata": {
    "jupyter": {
     "source_hidden": true
    },
    "tags": []
   },
   "outputs": [],
   "source": [
    "def get_trading_pair(name=\"BTC-USD\", period=\"5d\", interval=\"30m\"):\n",
    "    # valid periods: 1d,5d,1mo,3mo,6mo,1y,2y,5y,10y,ytd,max\n",
    "    # valid intervals: 1m,2m,5m,15m,30m,60m,90m,1h,1d,5d,1wk,1mo,3mo\n",
    "    btc = yfinance.Ticker(name)\n",
    "    hist = btc.history(period=period, interval=interval)\n",
    "    return hist"
   ]
  },
  {
   "cell_type": "code",
   "execution_count": 319,
   "id": "ac04e143-04a3-4228-910e-c98b0405601c",
   "metadata": {},
   "outputs": [],
   "source": [
    "\n",
    "class KmeansSupportResistance:\n",
    "    \n",
    "    def __init__(self, df: pd.DataFrame, saturation_point=0.5):\n",
    "        self.optimum = None\n",
    "\n",
    "        self.wcss = []\n",
    "        self.clusters = []\n",
    "        self.levels = []\n",
    "        \n",
    "        self.df = df\n",
    "        self.saturation_point = saturation_point\n",
    "        \n",
    "        self.__compute_kmeans_wcss()\n",
    "        self.__retrieve_centroids()\n",
    "        \n",
    "    def __compute_kmeans_wcss(self):\n",
    "        '''\n",
    "        :param df: dataframe\n",
    "        :param saturation_point: The amount of difference we are willing to detect\n",
    "        :return: clusters with optimum K centers\n",
    "        \n",
    "        This method uses elbow method to find the optimum number of K clusters\n",
    "        We initialize different K-means with 1..10 centers and compare the inertias\n",
    "        If the difference is no more than saturation_point, we choose that as K and move on\n",
    "        '''\n",
    "\n",
    "        size = min(11, len(self.df.index))\n",
    "        for i in range(1, size):\n",
    "            kmeans = KMeans(n_clusters=i, init='k-means++', max_iter=300, n_init=10, random_state=0)\n",
    "            kmeans.fit(self.df)\n",
    "            \n",
    "            self.wcss.append(kmeans.inertia_)\n",
    "            self.clusters.append(kmeans)\n",
    "\n",
    "        # Compare differences in inertias until it's no more than saturation_point\n",
    "        optimum_k = len(self.wcss)-1\n",
    "        for i in range(0, len(self.wcss)-1):\n",
    "            delta = self.wcss[i+1] / self.wcss[i]\n",
    "\n",
    "            if delta > self.saturation_point:\n",
    "                optimum_k = i + 1\n",
    "                break\n",
    "\n",
    "        print(\"Optimum K is \" + str(optimum_k + 1))\n",
    "        self.optimum = self.clusters[optimum_k]\n",
    "\n",
    "    def __retrieve_centroids(self):\n",
    "        \"\"\" i.e. support and resistance levels. \"\"\"\n",
    "        self.levels = self.optimum.cluster_centers_\n",
    "        self.levels = np.sort(self.levels, axis=0).reshape(-1)\n",
    "\n",
    "    def get_n_clusters(self, n):\n",
    "        kmeans = KMeans(n_clusters=n, init='k-means++', max_iter=300, n_init=10, random_state=0)\n",
    "        kmeans.fit(df)\n",
    "        return kmeans\n",
    "    \n",
    "    @staticmethod\n",
    "    def plot_(data, variations: []=None, titles: []=None, labels: bool=False, figratio=(16,9), **kwargs):\n",
    "        \n",
    "        if not variations:\n",
    "            variations = [self.levels]\n",
    "            \n",
    "        if titles and len(titles) != len(variations):\n",
    "            raise Exception(\"Titles and args should have same shape, debug input\")\n",
    "        \n",
    "        custom_style = mplf.make_mpf_style(base_mpf_style='charles', rc={\n",
    "            \"axes.labelcolor\": \"none\",\n",
    "            \"axes.spines.bottom\": False,\n",
    "            \"axes.spines.left\": False,\n",
    "            \"axes.spines.right\": False,\n",
    "            \"axes.spines.top\": False,\n",
    "            \"font.size\": 0,\n",
    "            \"xtick.color\": \"none\",\n",
    "            \"ytick.color\": \"none\",\n",
    "        })\n",
    "\n",
    "\n",
    "        fig = mplf.figure(style=\"charles\", figsize=figratio)\n",
    "        \n",
    "        fig.subplots_adjust(kwargs.get('wspace', 0.1))\n",
    "        fig.subplots_adjust(kwargs.get('hspace', 0.1))\n",
    "        \n",
    "        # subplot that takes  x y n, where n is the position\n",
    "        # and x and y are proportions given to each plot from total space\n",
    "        x = len(variations) // 2 + 1 \n",
    "        y = 2 if len(variations) > 1 else 1\n",
    "        lw = 2 if len(variations) == 1 else 1\n",
    "        \n",
    "        for n, levels in enumerate(variations):\n",
    "            ax = fig.add_subplot(x,y,n+1)\n",
    "            \n",
    "            # if titles are not given, then plots will have empty titles\n",
    "            title = titles[n] if titles else ''\n",
    "\n",
    "            mplf.plot(data, \n",
    "                      type='candle', ax=ax, axtitle=title, \n",
    "                      hlines=dict(\n",
    "                          hlines=[*levels],\n",
    "                          linestyle='dotted',\n",
    "                          linewidths=(lw), \n",
    "                          colors='black'), \n",
    "                      savefig='test-mplfiance.png'\n",
    "                     )\n",
    "            \n",
    "            # Get rid of x and y labels\n",
    "            if not labels:\n",
    "                ax.set_xticklabels([])\n",
    "                ax.set_yticklabels([])\n",
    "        \n",
    "    def plot_elbow():\n",
    "        plt.plot(self.wcss, 'bx-')\n",
    "        plt.xlabel('Values of K')\n",
    "        plt.ylabel('Inertia')\n",
    "        plt.title('The Elbow Method using Inertia')\n",
    "        plt.show()"
   ]
  },
  {
   "cell_type": "code",
   "execution_count": 320,
   "id": "a7f4edea-e511-4a23-8b49-35d6fd794fe4",
   "metadata": {
    "tags": []
   },
   "outputs": [],
   "source": [
    "def get_(name, period, interval, n=None, **kwargs):\n",
    "    # valid periods: 1d,5d,1mo,3mo,6mo,1y,2y,5y,10y,ytd,max\n",
    "    # valid intervals: 1m,2m,5m,15m,30m,60m,90m,1h,1d,5d,1wk,1mo,3mo\n",
    "    data = get_trading_pair(name=name, period=period, interval=interval)\n",
    "    \n",
    "    data = data.drop(columns=['Volume', 'Dividends', 'Stock Splits'])\n",
    "\n",
    "    lows = pd.DataFrame(data=data, index=data.index, columns=[\"Low\"])\n",
    "    highs = pd.DataFrame(data=data, index=data.index, columns=[\"High\"])\n",
    "\n",
    "    lowc = KmeansSupportResistance(lows)\n",
    "    highc = KmeansSupportResistance(highs)\n",
    "\n",
    "    lowc.plot_(data=data, titles=[f\"{name}, period: {period}, interval: {interval}\"], **kwargs)"
   ]
  },
  {
   "cell_type": "code",
   "execution_count": null,
   "id": "cc228d53-4ad0-4055-bedd-da900f4cb084",
   "metadata": {
    "tags": []
   },
   "outputs": [],
   "source": [
    "get_(\"BTC-USD\", \"1wk\", \"30m\")"
   ]
  },
  {
   "cell_type": "code",
   "execution_count": null,
   "id": "2ecd62b1-4c0f-4a5e-abcd-41de4ce48dae",
   "metadata": {},
   "outputs": [],
   "source": []
  },
  {
   "cell_type": "code",
   "execution_count": null,
   "id": "6ba5a674-5c8a-4f53-aecb-ac3c39cd0faf",
   "metadata": {},
   "outputs": [],
   "source": []
  }
 ],
 "metadata": {
  "kernelspec": {
   "display_name": "Python 3 (ipykernel)",
   "language": "python",
   "name": "python3"
  },
  "language_info": {
   "codemirror_mode": {
    "name": "ipython",
    "version": 3
   },
   "file_extension": ".py",
   "mimetype": "text/x-python",
   "name": "python",
   "nbconvert_exporter": "python",
   "pygments_lexer": "ipython3",
   "version": "3.10.2"
  }
 },
 "nbformat": 4,
 "nbformat_minor": 5
}
