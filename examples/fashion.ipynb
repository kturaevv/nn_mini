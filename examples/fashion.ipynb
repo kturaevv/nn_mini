{
 "cells": [
  {
   "cell_type": "markdown",
   "id": "b97bed35-e985-4d82-a015-48c5c1d29202",
   "metadata": {
    "tags": []
   },
   "source": [
    "# Data preparation"
   ]
  },
  {
   "cell_type": "code",
   "execution_count": 1,
   "id": "7704c797-b6bb-4a72-b2af-0b99b5f1ac81",
   "metadata": {},
   "outputs": [],
   "source": [
    "URL = 'https://nnfs.io/datasets/fashion_mnist_images.zip'\n",
    "FILE = 'fashion_mnist_images.zip'\n",
    "FOLDER = 'examples/fashion_mnist/data/'"
   ]
  },
  {
   "cell_type": "code",
   "execution_count": 2,
   "id": "fa692d57-6c65-449b-a879-dd6f0cd72593",
   "metadata": {},
   "outputs": [],
   "source": [
    "import os\n",
    "import urllib\n",
    "import urllib.request"
   ]
  },
  {
   "cell_type": "code",
   "execution_count": 3,
   "id": "f72a2e87-31de-414f-9c43-00919c696e2c",
   "metadata": {},
   "outputs": [],
   "source": [
    "if not os.path.isfile(FILE):\n",
    "    print(f\"Downloading {URL} and saving as {FILE}...\")\n",
    "    urllib.request.urlretrieve(URL,FILE)"
   ]
  },
  {
   "cell_type": "code",
   "execution_count": 4,
   "id": "b7416292-5f62-4816-8c22-c0c5a12a48a3",
   "metadata": {},
   "outputs": [
    {
     "name": "stdout",
     "output_type": "stream",
     "text": [
      "Unzipping images...\n"
     ]
    }
   ],
   "source": [
    "from zipfile import ZipFile\n",
    "\n",
    "print(\"Unzipping images...\")\n",
    "with ZipFile(FILE) as zip_images:\n",
    "    zip_images.extractall(FOLDER)"
   ]
  },
  {
   "cell_type": "markdown",
   "id": "84a15b88-a9a6-40a3-bb9e-753700e8084c",
   "metadata": {},
   "source": [
    "# Data loading"
   ]
  },
  {
   "cell_type": "code",
   "execution_count": 10,
   "id": "eb71f0e6-ad90-437b-8521-903212e5f857",
   "metadata": {},
   "outputs": [],
   "source": [
    "import os\n",
    "\n",
    "DATA_DIR = 'examples/fashion_mnist/data'\n",
    "TRAIN_DIR = 'examples/fashion_mnist/data/train'\n",
    "TEST_DIR = 'examples/fashion_mnist/data/test'\n",
    "\n",
    "labels = os.listdir(TRAIN_DIR)\n",
    "\n",
    "files = os.listdir(TRAIN_DIR + '/0')"
   ]
  },
  {
   "cell_type": "code",
   "execution_count": 11,
   "id": "88d226c5-a740-446b-ab06-7bc54197a30a",
   "metadata": {},
   "outputs": [],
   "source": [
    "import cv2\n",
    "import numpy as np\n",
    "image_data = cv2.imread(TRAIN_DIR + '/7/0002.png', cv2.IMREAD_UNCHANGED)\n",
    "\n",
    "np.set_printoptions(linewidth=200)"
   ]
  },
  {
   "cell_type": "code",
   "execution_count": 13,
   "id": "011e32a3-476e-4a72-ac21-b8f6694a2a14",
   "metadata": {},
   "outputs": [],
   "source": [
    "def load_mnist_dataset(dataset,path):\n",
    "    \n",
    "    # Scan ll the directories and create a list of labels\n",
    "    labels = os.listdir(os.path.join(path, dataset))\n",
    "    \n",
    "    X, y = [], []\n",
    "    \n",
    "    for label in labels:\n",
    "        for file in os.listdir(os.path.join(path, dataset, label)):\n",
    "            image = cv2.imread(os.path.join(path, dataset, label, file), cv2.IMREAD_UNCHANGED)\n",
    "        \n",
    "            X.append(image)\n",
    "            y.append(label)\n",
    "            \n",
    "    # Convert the data to proper numpy arrays and return\n",
    "    return np.array(X), np.array(y).astype('uint8')\n",
    "\n",
    "def create_data_mnist(path):\n",
    "    # Load both sets separately\n",
    "    X, y = load_mnist_dataset('train', path)\n",
    "    X_test, y_test = load_mnist_dataset('test', path)\n",
    "    # And return all the data\n",
    "    return X, y, X_test, y_test\n",
    "\n",
    "X, y, X_test, y_test = create_data_mnist(DATA_DIR)"
   ]
  },
  {
   "cell_type": "markdown",
   "id": "d97f9a72-d8d7-4918-929e-6560d43109d4",
   "metadata": {},
   "source": [
    "# Data preprocessing"
   ]
  },
  {
   "cell_type": "code",
   "execution_count": 14,
   "id": "97a79acd-75b4-482f-a890-fce84c3781e8",
   "metadata": {},
   "outputs": [],
   "source": [
    "# Scale features between -1 and 1\n",
    "X = (X.astype(np.float32) - 127.5) / 127.5\n",
    "X_test = (X_test.astype(np.float32) - 127.5) / 127.5\n",
    "assert -1 <= X.min(), X.max() <= 1 # Ensuring that scaling is correct"
   ]
  },
  {
   "cell_type": "code",
   "execution_count": 15,
   "id": "0510305b-25ac-4c92-b908-4bf9069ac73d",
   "metadata": {},
   "outputs": [
    {
     "data": {
      "text/plain": [
       "(60000, 28, 28)"
      ]
     },
     "execution_count": 15,
     "metadata": {},
     "output_type": "execute_result"
    }
   ],
   "source": [
    "X.shape"
   ]
  },
  {
   "cell_type": "code",
   "execution_count": 16,
   "id": "a23de9c8-4bff-4662-884f-de865fd92684",
   "metadata": {},
   "outputs": [],
   "source": [
    "X = X.reshape(60000, -1)\n",
    "X_test = X_test.reshape(X_test.shape[0], -1)"
   ]
  },
  {
   "cell_type": "markdown",
   "id": "587ee046-9e57-4ce1-9a2e-e930984fe219",
   "metadata": {},
   "source": [
    "# Data shuffling"
   ]
  },
  {
   "cell_type": "code",
   "execution_count": null,
   "id": "b1d02f44-6be2-4969-8c47-2d0dfb4a2119",
   "metadata": {},
   "outputs": [],
   "source": []
  }
 ],
 "metadata": {
  "kernelspec": {
   "display_name": "Python 3.10.2 ('venv': venv)",
   "language": "python",
   "name": "python3"
  },
  "language_info": {
   "codemirror_mode": {
    "name": "ipython",
    "version": 3
   },
   "file_extension": ".py",
   "mimetype": "text/x-python",
   "name": "python",
   "nbconvert_exporter": "python",
   "pygments_lexer": "ipython3",
   "version": "3.10.2"
  },
  "vscode": {
   "interpreter": {
    "hash": "b9be71ce5a52a3208977f2e7fdd9a07588940f06dcea6fd3e3d7564008a8353e"
   }
  }
 },
 "nbformat": 4,
 "nbformat_minor": 5
}
