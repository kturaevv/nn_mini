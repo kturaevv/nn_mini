{
 "cells": [
  {
   "cell_type": "code",
   "execution_count": 3,
   "id": "51882357-6255-41e8-9d61-bdd262e0a9a2",
   "metadata": {},
   "outputs": [],
   "source": [
    "from nn.model import *\n",
    "from nn.layer import *\n",
    "from nn.activation import *\n",
    "from nn.loss import *\n",
    "from nn.accuracy import *\n",
    "from nn.optimizer import *\n",
    "\n",
    "from nnfs.datasets import sine_data, spiral_data\n",
    "\n",
    "import nnfs\n",
    "\n",
    "nnfs.init()"
   ]
  },
  {
   "cell_type": "code",
   "execution_count": 4,
   "id": "fa692d57-6c65-449b-a879-dd6f0cd72593",
   "metadata": {},
   "outputs": [
    {
     "name": "stdout",
     "output_type": "stream",
     "text": [
      "epoch: 1000 , acc: 0.140 , loss: 0.000 (data_loss: 0.000 , reg_loss: 0.000 ), lr: 0.002501250625312656 \n",
      "epoch: 2000 , acc: 0.884 , loss: 0.000 (data_loss: 0.000 , reg_loss: 0.000 ), lr: 0.0016672224074691564 \n",
      "epoch: 3000 , acc: 0.141 , loss: 0.000 (data_loss: 0.000 , reg_loss: 0.000 ), lr: 0.0012503125781445363 \n",
      "epoch: 4000 , acc: 0.934 , loss: 0.000 (data_loss: 0.000 , reg_loss: 0.000 ), lr: 0.0010002000400080014 \n",
      "epoch: 5000 , acc: 0.945 , loss: 0.000 (data_loss: 0.000 , reg_loss: 0.000 ), lr: 0.0008334722453742291 \n",
      "epoch: 6000 , acc: 0.948 , loss: 0.000 (data_loss: 0.000 , reg_loss: 0.000 ), lr: 0.000714387769681383 \n",
      "epoch: 7000 , acc: 0.958 , loss: 0.000 (data_loss: 0.000 , reg_loss: 0.000 ), lr: 0.0006250781347668457 \n",
      "epoch: 8000 , acc: 0.945 , loss: 0.000 (data_loss: 0.000 , reg_loss: 0.000 ), lr: 0.00055561729081009 \n",
      "epoch: 9000 , acc: 0.944 , loss: 0.000 (data_loss: 0.000 , reg_loss: 0.000 ), lr: 0.0005000500050005 \n",
      "epoch: 10000 , acc: 0.970 , loss: 0.000 (data_loss: 0.000 , reg_loss: 0.000 ), lr: 0.00045458678061641964 \n"
     ]
    }
   ],
   "source": [
    "# Create dataset\n",
    "X, y = sine_data()\n",
    "# Instantiate the model\n",
    "\n",
    "model = Model()\n",
    "# Add layers\n",
    "model.add(Layer_Dense( 1 , 64 ))\n",
    "model.add(Activation_ReLU())\n",
    "model.add(Layer_Dense( 64 , 64 ))\n",
    "model.add(Activation_ReLU())\n",
    "model.add(Layer_Dense( 64 , 1 ))\n",
    "model.add(Activation_Linear())\n",
    "# Set loss, optimizer and accuracy objects\n",
    "model.set(\n",
    "loss = Loss_MeanSquaredError(),\n",
    "optimizer = Optimizer_Adam( learning_rate = 0.005 , decay = 1e-3 ),\n",
    "accuracy = Accuracy_Regression()\n",
    ")\n",
    "# Finalize the model\n",
    "model.finalize()\n",
    "# Train the model\n",
    "model.train(X, y, epochs = 10000 , print_every = 1000)"
   ]
  },
  {
   "cell_type": "code",
   "execution_count": null,
   "id": "f72a2e87-31de-414f-9c43-00919c696e2c",
   "metadata": {},
   "outputs": [],
   "source": []
  }
 ],
 "metadata": {
  "kernelspec": {
   "display_name": "Python 3 (ipykernel)",
   "language": "python",
   "name": "python3"
  },
  "language_info": {
   "codemirror_mode": {
    "name": "ipython",
    "version": 3
   },
   "file_extension": ".py",
   "mimetype": "text/x-python",
   "name": "python",
   "nbconvert_exporter": "python",
   "pygments_lexer": "ipython3",
   "version": "3.10.2"
  }
 },
 "nbformat": 4,
 "nbformat_minor": 5
}
