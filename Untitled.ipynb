{
 "cells": [
  {
   "cell_type": "code",
   "execution_count": 831,
   "id": "5b3b7271-0c4e-4ed9-bb33-9d2a2afcc9ae",
   "metadata": {},
   "outputs": [],
   "source": [
    "import numpy as np\n",
    "import pandas as pd\n",
    "\n",
    "class Node:\n",
    "    def __init__(self, n_weights: int) -> None:\n",
    "        # Identity of an object, i.e., a Node\n",
    "        self.node_id = str(id(self))[7:]\n",
    "        \n",
    "        # Create random weights that match the number of inputs\n",
    "        # TODO optimize later\n",
    "        # 1 bias per node and n weights for each corresponding input per node\n",
    "        self.weights = np.random.uniform(low=-1.0, high=1.0, size=n_weights) \n",
    "        self.bias = 0 # np.random.uniform(low=0.0, high=10.0, size=None)\n",
    "        \n",
    "    def __str__(self) -> str:\n",
    "        return f\"Node {self.node_id}|{len(self.weights)}\"\n",
    "    \n",
    "    def out(self, input_):\n",
    "        return np.sum(self.weights*input_) + self.bias\n",
    "\n",
    "\n",
    "class NeuralNetwork():\n",
    "    def __init__(self, n_inputs, hidden_layers_struct, n_outputs) -> None:\n",
    "        self.inputs = n_inputs\n",
    "        self.outputs = n_outputs\n",
    "        \n",
    "        self.network_structure = [n_inputs] + hidden_layers_struct\n",
    "        \n",
    "        self.hidden_layers = self.__construct_hidden_layers__()\n",
    "    \n",
    "    def show_structure(self) -> str:\n",
    "        print(\"Info: \", len(self.hidden_layers), \" hidden layers\")\n",
    "        \n",
    "        for indx, layer in enumerate(self.hidden_layers):\n",
    "            print(f\"Hidden layer {indx + 1} has {len(layer)} nodes: \\n\", \n",
    "                  np.array(\n",
    "                      [f\"Node {n.node_id}|{len(n.weights)} weights\" for n in layer]\n",
    "                  ).reshape(-1,1), '\\n')\n",
    "    \n",
    "    def __construct_hidden_layers__(self):\n",
    "        weights = [i for i in self.network_structure]\n",
    "        matrix = []\n",
    "        \n",
    "        for layer in self.network_structure[1:len(self.network_structure)]:\n",
    "            n_weights = weights.pop(0)\n",
    "            matrix.append([Node(n_weights) for n in range(layer)])\n",
    "        return np.array(matrix, dtype=object)\n",
    "    \n",
    "    def forward_propagate(self, input_, layer=0):\n",
    "        if layer == len(self.hidden_layers):\n",
    "            return input_\n",
    "        else:\n",
    "            layer_output = []\n",
    "            for node in self.hidden_layers[layer]:\n",
    "                layer_output.append(node.out(input_))\n",
    "            print(f\"Layer {layer} input: \\n\", input_)\n",
    "            print(f\"Layer {layer} output: \\n\", layer_output, \"\\n\")\n",
    "            return self.forward_propagate(layer_output, layer+1)\n",
    "            "
   ]
  },
  {
   "cell_type": "code",
   "execution_count": 832,
   "id": "08153616-9d43-41ee-a9a1-daee15fdd905",
   "metadata": {},
   "outputs": [],
   "source": [
    "nn = NeuralNetwork(n_inputs = 10, hidden_layers_struct = [5,3,5], n_outputs = 1)"
   ]
  },
  {
   "cell_type": "code",
   "execution_count": 833,
   "id": "126cefeb-671f-4f4e-b231-ca20c58f602c",
   "metadata": {},
   "outputs": [
    {
     "data": {
      "text/plain": [
       "-268.94981620559577"
      ]
     },
     "execution_count": 833,
     "metadata": {},
     "output_type": "execute_result"
    }
   ],
   "source": [
    "Node(4).out([1,333,2,3])"
   ]
  },
  {
   "cell_type": "code",
   "execution_count": 834,
   "id": "15b10f0d-305f-4267-8ba3-70ed41bf0ee6",
   "metadata": {},
   "outputs": [
    {
     "name": "stdout",
     "output_type": "stream",
     "text": [
      "Info:  3  hidden layers\n",
      "Hidden layer 1 has 5 nodes: \n",
      " [['Node 420560|10 weights']\n",
      " ['Node 427232|10 weights']\n",
      " ['Node 432656|10 weights']\n",
      " ['Node 419840|10 weights']\n",
      " ['Node 431024|10 weights']] \n",
      "\n",
      "Hidden layer 2 has 3 nodes: \n",
      " [['Node 418496|5 weights']\n",
      " ['Node 423872|5 weights']\n",
      " ['Node 426560|5 weights']] \n",
      "\n",
      "Hidden layer 3 has 5 nodes: \n",
      " [['Node 428528|3 weights']\n",
      " ['Node 432224|3 weights']\n",
      " ['Node 418400|3 weights']\n",
      " ['Node 425216|3 weights']\n",
      " ['Node 431984|3 weights']] \n",
      "\n"
     ]
    }
   ],
   "source": [
    "nn.show_structure()"
   ]
  },
  {
   "cell_type": "code",
   "execution_count": 836,
   "id": "9af7a82a-c716-4eda-8129-7da4315b0344",
   "metadata": {},
   "outputs": [
    {
     "name": "stdout",
     "output_type": "stream",
     "text": [
      "Layer 0 input: \n",
      " [2.88518506 2.32201315 6.76403029 3.34186598 6.68632475 8.94563674\n",
      " 9.38326065 3.39339542 2.0226961  5.72364886]\n",
      "Layer 0 output: \n",
      " [-5.302659253787848, -11.039747576858355, -5.316686775773754, 7.1638282054230515, 6.324370680985188] \n",
      "\n",
      "Layer 1 input: \n",
      " [-5.302659253787848, -11.039747576858355, -5.316686775773754, 7.1638282054230515, 6.324370680985188]\n",
      "Layer 1 output: \n",
      " [10.609735118358289, -12.818036354882535, -10.024638378373787] \n",
      "\n",
      "Layer 2 input: \n",
      " [10.609735118358289, -12.818036354882535, -10.024638378373787]\n",
      "Layer 2 output: \n",
      " [2.4758033835958067, 8.616728117098628, -13.423558485901607, 9.883604505887059, -3.248509048487383] \n",
      "\n"
     ]
    }
   ],
   "source": [
    "x = nn.forward_propagate(np.random.uniform(low = 1, high = 10, size =10))\n"
   ]
  },
  {
   "cell_type": "code",
   "execution_count": null,
   "id": "9642ee7e-6522-41eb-be61-227c160705b1",
   "metadata": {},
   "outputs": [],
   "source": []
  },
  {
   "cell_type": "code",
   "execution_count": null,
   "id": "f9009a1b-ac58-4416-8ac4-f1ab5ae7e9df",
   "metadata": {},
   "outputs": [],
   "source": []
  }
 ],
 "metadata": {
  "kernelspec": {
   "display_name": "Python 3 (ipykernel)",
   "language": "python",
   "name": "python3"
  },
  "language_info": {
   "codemirror_mode": {
    "name": "ipython",
    "version": 3
   },
   "file_extension": ".py",
   "mimetype": "text/x-python",
   "name": "python",
   "nbconvert_exporter": "python",
   "pygments_lexer": "ipython3",
   "version": "3.10.2"
  }
 },
 "nbformat": 4,
 "nbformat_minor": 5
}
