{
 "cells": [
  {
   "cell_type": "code",
   "execution_count": 2,
   "id": "51882357-6255-41e8-9d61-bdd262e0a9a2",
   "metadata": {},
   "outputs": [],
   "source": [
    "from neural_networks_01 import *\n",
    "from nnfs.datasets import sine_data, spiral_data\n",
    "\n",
    "import nnfs\n",
    "\n",
    "nnfs.init()"
   ]
  },
  {
   "cell_type": "code",
   "execution_count": null,
   "id": "32b0083b-0d7e-401c-b80d-f65483e1ca0b",
   "metadata": {
    "collapsed": true,
    "jupyter": {
     "outputs_hidden": true
    },
    "tags": []
   },
   "outputs": [
    {
     "name": "stdout",
     "output_type": "stream",
     "text": [
      "Unexpected exception formatting exception. Falling back to standard exception\n"
     ]
    },
    {
     "name": "stderr",
     "output_type": "stream",
     "text": [
      "Traceback (most recent call last):\n",
      "  File \"C:\\Users\\User\\AppData\\Local\\Programs\\Python\\Python310\\lib\\site-packages\\IPython\\core\\interactiveshell.py\", line 3398, in run_code\n",
      "    exec(code_obj, self.user_global_ns, self.user_ns)\n",
      "  File \"C:\\Users\\User\\AppData\\Local\\Temp\\ipykernel_12916\\2869911703.py\", line 21, in <cell line: 21>\n",
      "    model.train(X, y, epochs = 10000 , print_every = 1000)\n",
      "  File \"C:\\Users\\User\\Desktop\\neural_networks\\neural_networks_01.py\", line 26, in train\n",
      "TypeError: cannot unpack non-iterable numpy.float64 object\n",
      "\n",
      "During handling of the above exception, another exception occurred:\n",
      "\n",
      "Traceback (most recent call last):\n",
      "  File \"C:\\Users\\User\\AppData\\Local\\Programs\\Python\\Python310\\lib\\site-packages\\IPython\\core\\interactiveshell.py\", line 1993, in showtraceback\n",
      "    stb = self.InteractiveTB.structured_traceback(\n",
      "  File \"C:\\Users\\User\\AppData\\Local\\Programs\\Python\\Python310\\lib\\site-packages\\IPython\\core\\ultratb.py\", line 1118, in structured_traceback\n",
      "    return FormattedTB.structured_traceback(\n",
      "  File \"C:\\Users\\User\\AppData\\Local\\Programs\\Python\\Python310\\lib\\site-packages\\IPython\\core\\ultratb.py\", line 1012, in structured_traceback\n",
      "    return VerboseTB.structured_traceback(\n",
      "  File \"C:\\Users\\User\\AppData\\Local\\Programs\\Python\\Python310\\lib\\site-packages\\IPython\\core\\ultratb.py\", line 865, in structured_traceback\n",
      "    formatted_exception = self.format_exception_as_a_whole(etype, evalue, etb, number_of_lines_of_context,\n",
      "  File \"C:\\Users\\User\\AppData\\Local\\Programs\\Python\\Python310\\lib\\site-packages\\IPython\\core\\ultratb.py\", line 818, in format_exception_as_a_whole\n",
      "    frames.append(self.format_record(r))\n",
      "  File \"C:\\Users\\User\\AppData\\Local\\Programs\\Python\\Python310\\lib\\site-packages\\IPython\\core\\ultratb.py\", line 736, in format_record\n",
      "    result += ''.join(_format_traceback_lines(frame_info.lines, Colors, self.has_colors, lvals))\n",
      "  File \"C:\\Users\\User\\AppData\\Local\\Programs\\Python\\Python310\\lib\\site-packages\\stack_data\\utils.py\", line 145, in cached_property_wrapper\n",
      "    value = obj.__dict__[self.func.__name__] = self.func(obj)\n",
      "  File \"C:\\Users\\User\\AppData\\Local\\Programs\\Python\\Python310\\lib\\site-packages\\stack_data\\core.py\", line 698, in lines\n",
      "    pieces = self.included_pieces\n",
      "  File \"C:\\Users\\User\\AppData\\Local\\Programs\\Python\\Python310\\lib\\site-packages\\stack_data\\utils.py\", line 145, in cached_property_wrapper\n",
      "    value = obj.__dict__[self.func.__name__] = self.func(obj)\n",
      "  File \"C:\\Users\\User\\AppData\\Local\\Programs\\Python\\Python310\\lib\\site-packages\\stack_data\\core.py\", line 649, in included_pieces\n",
      "    pos = scope_pieces.index(self.executing_piece)\n",
      "  File \"C:\\Users\\User\\AppData\\Local\\Programs\\Python\\Python310\\lib\\site-packages\\stack_data\\utils.py\", line 145, in cached_property_wrapper\n",
      "    value = obj.__dict__[self.func.__name__] = self.func(obj)\n",
      "  File \"C:\\Users\\User\\AppData\\Local\\Programs\\Python\\Python310\\lib\\site-packages\\stack_data\\core.py\", line 628, in executing_piece\n",
      "    return only(\n",
      "  File \"C:\\Users\\User\\AppData\\Local\\Programs\\Python\\Python310\\lib\\site-packages\\executing\\executing.py\", line 164, in only\n",
      "    raise NotOneValueFound('Expected one value, found 0')\n",
      "executing.executing.NotOneValueFound: Expected one value, found 0\n"
     ]
    }
   ],
   "source": [
    "# Create dataset\n",
    "X, y = sine_data()\n",
    "# Instantiate the model\n",
    "model = Model()\n",
    "# Add layers\n",
    "model.add(Layer_Dense( 1 , 64 ))\n",
    "model.add(Activation_ReLU())\n",
    "model.add(Layer_Dense( 64 , 64 ))\n",
    "model.add(Activation_ReLU())\n",
    "model.add(Layer_Dense( 64 , 1 ))\n",
    "model.add(Activation_Linear())\n",
    "# Set loss, optimizer and accuracy objects\n",
    "model.set(\n",
    "loss = Loss_MeanSquaredError(),\n",
    "optimizer = Optimizer_Adam( learning_rate = 0.005 , decay = 1e-3 ),\n",
    "    accuracy = Accuracy_Regression()\n",
    ")\n",
    "# Finalize the model\n",
    "model.finalize()\n",
    "# Train the model\n",
    "model.train(X, y, epochs = 10000 , print_every = 1000)"
   ]
  },
  {
   "cell_type": "code",
   "execution_count": 5,
   "id": "d76520d6-6abb-4b6b-9a8b-eda9363d4ba4",
   "metadata": {},
   "outputs": [
    {
     "name": "stdout",
     "output_type": "stream",
     "text": [
      "epoch: 1000 , acc: 0.510 , loss: 0.587 (data_loss: 0.569 , reg_loss: 0.018 ), lr: 0.000999500749375687 \n",
      "epoch: 2000 , acc: 0.520 , loss: 0.472 (data_loss: 0.416 , reg_loss: 0.056 ), lr: 0.0009990014980027463 \n",
      "epoch: 3000 , acc: 0.525 , loss: 0.432 (data_loss: 0.372 , reg_loss: 0.060 ), lr: 0.000998502745133672 \n",
      "epoch: 4000 , acc: 0.535 , loss: 0.406 (data_loss: 0.350 , reg_loss: 0.056 ), lr: 0.0009980044900222008 \n",
      "epoch: 5000 , acc: 0.535 , loss: 0.387 (data_loss: 0.334 , reg_loss: 0.053 ), lr: 0.000997506731923557 \n",
      "epoch: 6000 , acc: 0.540 , loss: 0.372 (data_loss: 0.322 , reg_loss: 0.050 ), lr: 0.0009970094700944517 \n",
      "epoch: 7000 , acc: 0.550 , loss: 0.360 (data_loss: 0.312 , reg_loss: 0.048 ), lr: 0.000996512703793076 \n",
      "epoch: 8000 , acc: 0.550 , loss: 0.350 (data_loss: 0.305 , reg_loss: 0.045 ), lr: 0.0009960164322790998 \n",
      "epoch: 9000 , acc: 0.550 , loss: 0.342 (data_loss: 0.300 , reg_loss: 0.043 ), lr: 0.000995520654813666 \n",
      "epoch: 10000 , acc: 0.550 , loss: 0.336 (data_loss: 0.295 , reg_loss: 0.041 ), lr: 0.0009950253706593885 \n",
      "validation, acc: 0.525 , loss: 0.408 \n"
     ]
    }
   ],
   "source": [
    "# Create train and test dataset\n",
    "X, y = spiral_data( samples = 100 , classes = 2 )\n",
    "X_test, y_test = spiral_data( samples = 100 , classes = 2 )\n",
    "# Reshape labels to be a list of lists\n",
    "# Inner list contains one output (either 0 or 1)\n",
    "# per each output neuron, 1 in this case\n",
    "y = y.reshape( - 1 , 1 )\n",
    "y_test = y_test.reshape( - 1 , 1 )\n",
    "# Instantiate the model\n",
    "model = Model()\n",
    "# Add layers\n",
    "model.add(Layer_Dense( 2 , 64 , weight_regularizer_l2 = 5e-4,bias_regularizer_l2 = 5e-4 ))\n",
    "model.add(Activation_ReLU())\n",
    "model.add(Layer_Dense( 64 , 1 ))\n",
    "model.add(Activation_Sigmoid())\n",
    "\n",
    "# Set loss, optimizer and accuracy objects\n",
    "model.set(\n",
    "    loss = Loss_BinaryCrossentropy(),\n",
    "    optimizer = Optimizer_Adam( decay = 5e-7 ),\n",
    "    accuracy = Accuracy_Categorical()\n",
    ")\n",
    "# Finalize the model\n",
    "model.finalize()\n",
    "# Train the model\n",
    "model.train(X, y, validation_data = (X_test, y_test),\n",
    "epochs = 10000 , print_every = 1000 )"
   ]
  },
  {
   "cell_type": "code",
   "execution_count": null,
   "id": "e05228b2-14c0-4816-a30f-1c353585832c",
   "metadata": {},
   "outputs": [],
   "source": []
  },
  {
   "cell_type": "code",
   "execution_count": null,
   "id": "630dcddd-e59b-4711-af33-917ccab2b348",
   "metadata": {},
   "outputs": [],
   "source": []
  }
 ],
 "metadata": {
  "kernelspec": {
   "display_name": "Python 3 (ipykernel)",
   "language": "python",
   "name": "python3"
  },
  "language_info": {
   "codemirror_mode": {
    "name": "ipython",
    "version": 3
   },
   "file_extension": ".py",
   "mimetype": "text/x-python",
   "name": "python",
   "nbconvert_exporter": "python",
   "pygments_lexer": "ipython3",
   "version": "3.10.2"
  }
 },
 "nbformat": 4,
 "nbformat_minor": 5
}
